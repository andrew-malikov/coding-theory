{
 "cells": [
  {
   "cell_type": "markdown",
   "metadata": {},
   "source": [
    "# Помехоустойчивый код с использованием дупликации битов"
   ]
  },
  {
   "cell_type": "code",
   "execution_count": 2,
   "metadata": {},
   "outputs": [],
   "source": [
    "from src.sequence_generator import generate_bit_sequence\n",
    "from src.error_correction.multiplied_code import decode, encode"
   ]
  },
  {
   "cell_type": "code",
   "execution_count": 6,
   "metadata": {},
   "outputs": [
    {
     "name": "stdout",
     "output_type": "stream",
     "text": [
      "Origin: \t[0, 1, 0, 1, 1, 1, 1, 1]\n",
      "Encoded: \t[0, 0, 0, 1, 1, 1, 0, 0, 0, 1, 1, 1, 1, 1, 1, 1, 1, 1, 1, 1, 1, 1, 1, 1]\n",
      "Broken: \t[1, 0, 0, 1, 0, 1, 0, 0, 0, 0, 1, 1, 1, 1, 1, 1, 1, 1, 1, 1, 1, 1, 1, 1]\n",
      "Decoded: \t[0, 1, 0, 1, 1, 1, 1, 1]\n"
     ]
    }
   ],
   "source": [
    "from random import random\n",
    "\n",
    "\n",
    "sequence = generate_bit_sequence(8)\n",
    "\n",
    "\n",
    "def broke_sequence(sequence: [int], probability: float=0.1):\n",
    "    for i in range(0, len(sequence)):\n",
    "        \n",
    "        if random() <= probability:\n",
    "            sequence[i] = 1 - sequence[i]\n",
    "\n",
    "\n",
    "def show_duplicated_code(sequence: [int]):\n",
    "    print(\"Origin: \\t{0}\".format(sequence))\n",
    "    \n",
    "    encoded = encode(sequence)\n",
    "    print(\"Encoded: \\t{0}\".format(encoded))\n",
    "    \n",
    "    broke_sequence(encoded)\n",
    "    print(\"Broken: \\t{0}\".format(encoded))\n",
    "    \n",
    "    print(\"Decoded: \\t{0}\".format(decode(encoded)))\n",
    "\n",
    "    \n",
    "show_duplicated_code(sequence)"
   ]
  },
  {
   "cell_type": "markdown",
   "metadata": {},
   "source": [
    "# Использование бита четности\n",
    "\n",
    "    каждым 7 битам в конце добавляется 8 бит четности"
   ]
  },
  {
   "cell_type": "code",
   "execution_count": 1,
   "metadata": {},
   "outputs": [],
   "source": [
    "from src.sequence_generator import generate_bit_sequence\n",
    "from src.error_correction.parity_code import encode"
   ]
  },
  {
   "cell_type": "code",
   "execution_count": 4,
   "metadata": {},
   "outputs": [
    {
     "name": "stdout",
     "output_type": "stream",
     "text": [
      "Origin: \t[0, 0, 1, 1, 1, 1, 1, 0, 1, 1, 0, 0, 1, 1, 1, 0]\n",
      "Encoded: \t[0, 0, 1, 1, 1, 1, 1, 1, 0, 1, 1, 0, 0, 1, 1, 0, 0, 0, 0, 0, 0, 1, 0, 1]\n"
     ]
    }
   ],
   "source": [
    "sequence = generate_bit_sequence(16)\n",
    "\n",
    "\n",
    "def show_parity_codes(sequence: [int]):\n",
    "    print(\"Origin: \\t{0}\".format(sequence))\n",
    "    \n",
    "    print(\"Encoded: \\t{0}\".format(encode(sequence)))\n",
    "\n",
    "\n",
    "show_parity_codes(sequence)"
   ]
  },
  {
   "cell_type": "markdown",
   "metadata": {},
   "source": [
    "# Корректирующие коды Хэмминга\n",
    "\n",
    "    в простейщем виде исправляют только одну ошибку"
   ]
  },
  {
   "cell_type": "code",
   "execution_count": 2,
   "metadata": {},
   "outputs": [],
   "source": [
    "from src.sequence_generator import generate_bit_sequence\n",
    "from src.error_correction.hamming_codes import encode, decode"
   ]
  },
  {
   "cell_type": "code",
   "execution_count": 5,
   "metadata": {},
   "outputs": [
    {
     "name": "stdout",
     "output_type": "stream",
     "text": [
      "Origin: \t[0, 1, 0, 0, 1, 1, 1, 0, 0, 0, 1, 0, 1, 1, 0, 0]\n",
      "Encoded: \t[1, 1, 0, 0, 1, 0, 0, 0, 1, 1, 1, 0, 0, 0, 1, 0, 0, 1, 1, 0, 0]\n",
      "Broken: \t[1, 1, 0, 0, 1, 0, 0, 0, 1, 1, 1, 0, 0, 0, 1, 1, 0, 1, 1, 0, 0]\n",
      "Decoded: \t[0, 1, 0, 0, 1, 1, 1, 0, 0, 0, 1, 0, 1, 1, 0, 0]\n"
     ]
    }
   ],
   "source": [
    "from random import randint\n",
    "\n",
    "\n",
    "sequence = generate_bit_sequence(16)\n",
    "\n",
    "\n",
    "def broke_sequence(sequence: [int]):\n",
    "    index = randint(0, len(sequence)-1)\n",
    "    \n",
    "    sequence[index] = 1 - sequence[index]\n",
    "\n",
    "\n",
    "def show_hamming_codes(sequence: [int]):\n",
    "    print(\"Origin: \\t{0}\".format(sequence))\n",
    "\n",
    "    encoded = encode(sequence)\n",
    "    print(\"Encoded: \\t{0}\".format(encoded))\n",
    "\n",
    "    broke_sequence(encoded)\n",
    "    print(\"Broken: \\t{0}\".format(encoded))\n",
    "\n",
    "    print(\"Decoded: \\t{0}\".format(decode(encoded)))\n",
    "\n",
    "\n",
    "show_hamming_codes(sequence)"
   ]
  },
  {
   "cell_type": "code",
   "execution_count": null,
   "metadata": {},
   "outputs": [],
   "source": []
  }
 ],
 "metadata": {
  "kernelspec": {
   "display_name": "Python 3",
   "language": "python",
   "name": "python3"
  },
  "language_info": {
   "codemirror_mode": {
    "name": "ipython",
    "version": 3
   },
   "file_extension": ".py",
   "mimetype": "text/x-python",
   "name": "python",
   "nbconvert_exporter": "python",
   "pygments_lexer": "ipython3",
   "version": "3.7.0"
  }
 },
 "nbformat": 4,
 "nbformat_minor": 2
}
