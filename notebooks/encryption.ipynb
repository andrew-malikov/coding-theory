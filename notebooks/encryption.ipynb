{
 "cells": [
  {
   "cell_type": "markdown",
   "metadata": {},
   "source": [
    "# RSA"
   ]
  },
  {
   "cell_type": "code",
   "execution_count": 1,
   "metadata": {},
   "outputs": [],
   "source": [
    "from src.encryption.rsa import RsaKeys, RsaEncryption, RsaDecryption"
   ]
  },
  {
   "cell_type": "code",
   "execution_count": 2,
   "metadata": {},
   "outputs": [],
   "source": [
    "def get_keys():\n",
    "    return RsaKeys(\n",
    "        37975227936943673922808872755445627854565536638199,\n",
    "        40094690950920881030683735292761468389214899724061\n",
    "    )"
   ]
  },
  {
   "cell_type": "code",
   "execution_count": 3,
   "metadata": {},
   "outputs": [
    {
     "name": "stdout",
     "output_type": "stream",
     "text": [
      "original: 42\n",
      "encrypted: 74088\n",
      "decrypted: 42\n"
     ]
    }
   ],
   "source": [
    "keys = get_keys()\n",
    "\n",
    "data = 42\n",
    "\n",
    "encrypted_data = RsaEncryption(keys.public).encrypt(data)\n",
    "decrypted_data = RsaDecryption(keys.private).decrypt(encrypted_data)\n",
    "\n",
    "print(f\"original: {data}\")\n",
    "print(f\"encrypted: {encrypted_data}\")\n",
    "print(f\"decrypted: {decrypted_data}\")"
   ]
  },
  {
   "cell_type": "markdown",
   "metadata": {},
   "source": [
    "# Digital signature with RSA"
   ]
  },
  {
   "cell_type": "code",
   "execution_count": 4,
   "metadata": {},
   "outputs": [],
   "source": [
    "from src.encryption.signed_data import SignedDataFromRaw"
   ]
  },
  {
   "cell_type": "code",
   "execution_count": 5,
   "metadata": {},
   "outputs": [
    {
     "name": "stdout",
     "output_type": "stream",
     "text": [
      "data: Importrant document #42\n",
      "encrypted hash: 595587806658497353014533699389507978629053179644252925377472474570803437056445448816444627570046647\n",
      "is valid sign: True\n"
     ]
    }
   ],
   "source": [
    "keys = get_keys()\n",
    "\n",
    "signed_data = SignedDataFromRaw(\"Importrant document #42\", RsaEncryption(keys.private))\n",
    "\n",
    "print(f\"data: {signed_data.data}\\nencrypted hash: {signed_data.encrypted_hash}\")\n",
    "print(f\"is valid sign: {signed_data.is_valid(RsaDecryption(keys.public))}\")"
   ]
  },
  {
   "cell_type": "code",
   "execution_count": null,
   "metadata": {},
   "outputs": [],
   "source": []
  }
 ],
 "metadata": {
  "kernelspec": {
   "display_name": "Python 3",
   "language": "python",
   "name": "python3"
  },
  "language_info": {
   "codemirror_mode": {
    "name": "ipython",
    "version": 3
   },
   "file_extension": ".py",
   "mimetype": "text/x-python",
   "name": "python",
   "nbconvert_exporter": "python",
   "pygments_lexer": "ipython3",
   "version": "3.7.1"
  }
 },
 "nbformat": 4,
 "nbformat_minor": 2
}
