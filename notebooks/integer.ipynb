{
 "cells": [
  {
   "cell_type": "markdown",
   "metadata": {},
   "source": [
    "# Представление целых чисел со знаком в битах\n",
    "\n",
    "    в 16 битах"
   ]
  },
  {
   "cell_type": "code",
   "execution_count": 3,
   "metadata": {},
   "outputs": [
    {
     "name": "stdout",
     "output_type": "stream",
     "text": [
      "12121 in bits: 0010111101011001\n"
     ]
    }
   ],
   "source": [
    "from src.integer.integer import repesent_s_int\n",
    "\n",
    "\n",
    "def show_ingeter_in_bits(number: int):\n",
    "    print(\"{0} in bits: {1}\".format(number, repesent_s_int(number)))\n",
    "\n",
    "\n",
    "show_ingeter_in_bits(12121)"
   ]
  },
  {
   "cell_type": "code",
   "execution_count": null,
   "metadata": {},
   "outputs": [],
   "source": []
  }
 ],
 "metadata": {
  "kernelspec": {
   "display_name": "Python 3",
   "language": "python",
   "name": "python3"
  },
  "language_info": {
   "codemirror_mode": {
    "name": "ipython",
    "version": 3
   },
   "file_extension": ".py",
   "mimetype": "text/x-python",
   "name": "python",
   "nbconvert_exporter": "python",
   "pygments_lexer": "ipython3",
   "version": "3.7.0"
  }
 },
 "nbformat": 4,
 "nbformat_minor": 2
}
